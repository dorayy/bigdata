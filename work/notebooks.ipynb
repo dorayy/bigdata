{
 "cells": [
  {
   "cell_type": "code",
   "execution_count": 2,
   "id": "0f9ef806-365d-4cdb-b144-158b08acd108",
   "metadata": {},
   "outputs": [],
   "source": [
    "from pyspark.sql import SparkSession\n",
    "from pyspark.sql.types import *\n",
    "from pyspark.sql import functions as F\n",
    "from pyspark.sql.types import *\n",
    "from pyspark.sql.functions import udf\n",
    "from pyspark.sql.window import Window\n",
    "\n",
    "spark = SparkSession.builder.getOrCreate()"
   ]
  },
  {
   "cell_type": "code",
   "execution_count": 8,
   "id": "df3af078-342e-44fb-b55e-f50dae102313",
   "metadata": {
    "tags": []
   },
   "outputs": [],
   "source": [
    "dfFlight = spark.read.json('hdfs://namenode:9000/data/flights.json')"
   ]
  },
  {
   "cell_type": "code",
   "execution_count": 9,
   "id": "e5b0a536-4b1c-4410-9f9e-5abe1dc2eb76",
   "metadata": {
    "tags": []
   },
   "outputs": [
    {
     "name": "stdout",
     "output_type": "stream",
     "text": [
      "+----------+-----------+--------+--------+------------+-------------+--------+\n",
      "|reg_number|flight_icao|dep_icao|arr_icao|airline_icao|aircraft_icao|  status|\n",
      "+----------+-----------+--------+--------+------------+-------------+--------+\n",
      "|  RA-67159|       null|    null|    null|         UVT|         CRJ2|en-route|\n",
      "|  RA-67169|       null|    OMDW|    null|         RNA|         CL60|en-route|\n",
      "|  RA-73760|    AFL1231|    UWUU|    UUEE|         AFL|         A320|en-route|\n",
      "|  RA-73782|     AFL426|    UUEE|    HESH|         AFL|         A333|en-route|\n",
      "|  RA-73808|     SVR619|    URSS|    USCC|         SVR|         A320|en-route|\n",
      "|  RA-73809|     SVR627|    UUDD|    UMKK|         SVR|         A320|en-route|\n",
      "|  RA-73816|     SVR391|    ULLI|    UMKK|         SVR|         A319|en-route|\n",
      "|  RA-73817|     SVR372|    UMKK|    UUDD|         SVR|         A320|en-route|\n",
      "|  RA-73824|    SVR9486|    UWKE|    UNNT|         SVR|         A320|en-route|\n",
      "|  RA-73833|     SVR508|    URSS|    UWKD|         SVR|         A320|en-route|\n",
      "|  RA-73843|    SVR2424|    UTDD|    UUBW|         SVR|         A321|en-route|\n",
      "|    I-FORR|    VND1419|    LTAI|    LIML|         VND|         LJ40|en-route|\n",
      "|    I-ADJR|     DLH88P|    LFPG|    EDDM|         DLA|         E195|en-route|\n",
      "|    I-ADJV|     DLH2HT|    EDDM|    LRTR|         DLA|         E195|en-route|\n",
      "|    EC-ILO|    FIN08VD|    LEMD|    EFHK|         IBE|         A321|en-route|\n",
      "|    EC-KHN|     VLG5KD|    LEAL|    LSZH|         VLG|         A320|en-route|\n",
      "|    EC-KLB|    VLG709F|    EHAM|    LEBL|         VLG|         A320|en-route|\n",
      "|    EC-KOM|     PUE302|    SPJC|    LEMD|         PUE|         A332|en-route|\n",
      "|    EC-KRY|     CNF707|    GCLP|    GCRR|         CNF|         AT75|en-route|\n",
      "|    EC-LGF|    IBB47MJ|    GCXO|    GCLP|         IBB|         AT75|en-route|\n",
      "+----------+-----------+--------+--------+------------+-------------+--------+\n",
      "only showing top 20 rows\n",
      "\n"
     ]
    }
   ],
   "source": [
    "df_1 = dfFlight.select('reg_number', 'flight_icao', 'dep_icao', 'arr_icao', 'airline_icao', 'aircraft_icao', 'status')\n",
    "df_1.show()"
   ]
  },
  {
   "cell_type": "code",
   "execution_count": 11,
   "id": "348dbeb2-44ca-4d96-b1be-644b945d4e1a",
   "metadata": {},
   "outputs": [],
   "source": [
    "dfAirport = spark.read.json('hdfs://namenode:9000/data/airports.json')"
   ]
  },
  {
   "cell_type": "code",
   "execution_count": 12,
   "id": "38a8e016-4aa8-4075-bab6-caeb03d3f259",
   "metadata": {
    "tags": []
   },
   "outputs": [],
   "source": [
    "df_1 = df_1.join(dfAirport, df_1.dep_icao == dfAirport.icao_code,how='left')"
   ]
  },
  {
   "cell_type": "code",
   "execution_count": 13,
   "id": "8ae56028-cebc-4f72-bb3d-4204320805a2",
   "metadata": {},
   "outputs": [
    {
     "name": "stdout",
     "output_type": "stream",
     "text": [
      "+----------+-----------+--------+--------+------------+-------------+--------+--------------------+\n",
      "|reg_number|flight_icao|dep_icao|arr_icao|airline_icao|aircraft_icao|  status|         dep_airport|\n",
      "+----------+-----------+--------+--------+------------+-------------+--------+--------------------+\n",
      "|  RA-67159|       null|    null|    null|         UVT|         CRJ2|en-route|                null|\n",
      "|  RA-67169|       null|    OMDW|    null|         RNA|         CL60|en-route|Dubai World Centr...|\n",
      "|  RA-73760|    AFL1231|    UWUU|    UUEE|         AFL|         A320|en-route|Ufa International...|\n",
      "|  RA-73782|     AFL426|    UUEE|    HESH|         AFL|         A333|en-route|Sheremetyevo Inte...|\n",
      "|  RA-73808|     SVR619|    URSS|    USCC|         SVR|         A320|en-route|Sochi Internation...|\n",
      "+----------+-----------+--------+--------+------------+-------------+--------+--------------------+\n",
      "only showing top 5 rows\n",
      "\n"
     ]
    }
   ],
   "source": [
    "depAirport = df_1.drop('country_code', 'iata_code' , 'icao_code' , 'lat' ,'lng')\n",
    "depAirport = depAirport.withColumnRenamed(\"name\",\"dep_airport\")\n",
    "depAirport.show(5)"
   ]
  },
  {
   "cell_type": "code",
   "execution_count": 14,
   "id": "5d456ea2-f472-49b5-8d79-7890f224d9c9",
   "metadata": {},
   "outputs": [],
   "source": [
    "departuresFlight = depAirport.join(dfAirport, df_1.arr_icao == dfAirport.icao_code,how='left')"
   ]
  },
  {
   "cell_type": "code",
   "execution_count": 26,
   "id": "3ccc619d-372b-4286-a9d3-912a447dc397",
   "metadata": {
    "tags": []
   },
   "outputs": [
    {
     "name": "stdout",
     "output_type": "stream",
     "text": [
      "+----------+-----------+--------+--------+------------+-------------+--------+--------------------+--------------------+\n",
      "|reg_number|flight_icao|dep_icao|arr_icao|airline_icao|aircraft_icao|  status|         dep_airport|         arr_airport|\n",
      "+----------+-----------+--------+--------+------------+-------------+--------+--------------------+--------------------+\n",
      "|  RA-73760|    AFL1231|    UWUU|    UUEE|         AFL|         A320|en-route|Ufa International...|Sheremetyevo Inte...|\n",
      "|  RA-73782|     AFL426|    UUEE|    HESH|         AFL|         A333|en-route|Sheremetyevo Inte...|Sharm el-Sheikh I...|\n",
      "|  RA-73808|     SVR619|    URSS|    USCC|         SVR|         A320|en-route|Sochi Internation...| Chelyabinsk Airport|\n",
      "|  RA-73809|     SVR627|    UUDD|    UMKK|         SVR|         A320|en-route|Domodedovo Intern...|   Khrabrovo Airport|\n",
      "|  RA-73816|     SVR391|    ULLI|    UMKK|         SVR|         A319|en-route|     Pulkovo Airport|   Khrabrovo Airport|\n",
      "|  RA-73817|     SVR372|    UMKK|    UUDD|         SVR|         A320|en-route|   Khrabrovo Airport|Domodedovo Intern...|\n",
      "|  RA-73824|    SVR9486|    UWKE|    UNNT|         SVR|         A320|en-route|   Begishevo Airport|  Tolmachevo Airport|\n",
      "|  RA-73833|     SVR508|    URSS|    UWKD|         SVR|         A320|en-route|Sochi Internation...|Kazan Internation...|\n",
      "|  RA-73843|    SVR2424|    UTDD|    UUBW|         SVR|         A321|en-route|    Dushanbe Airport|Zhukovsky Interna...|\n",
      "|    I-FORR|    VND1419|    LTAI|    LIML|         VND|         LJ40|en-route|     Antalya Airport|Milano Linate Air...|\n",
      "|    I-ADJR|     DLH88P|    LFPG|    EDDM|         DLA|         E195|en-route|Paris Charles de ...|Munich Internatio...|\n",
      "|    I-ADJV|     DLH2HT|    EDDM|    LRTR|         DLA|         E195|en-route|Munich Internatio...|Timisoara Traian ...|\n",
      "|    EC-ILO|    FIN08VD|    LEMD|    EFHK|         IBE|         A321|en-route|Adolfo Suarez Mad...|Helsinki-Vantaa A...|\n",
      "|    EC-KHN|     VLG5KD|    LEAL|    LSZH|         VLG|         A320|en-route|Alicante-Elche Ai...|      Zurich Airport|\n",
      "|    EC-KLB|    VLG709F|    EHAM|    LEBL|         VLG|         A320|en-route|Amsterdam Airport...|Barcelona-El Prat...|\n",
      "|    EC-KOM|     PUE302|    SPJC|    LEMD|         PUE|         A332|en-route|Jorge Chavez Inte...|Adolfo Suarez Mad...|\n",
      "|    EC-KRY|     CNF707|    GCLP|    GCRR|         CNF|         AT75|en-route|Gran Canaria Airport|   Lanzarote Airport|\n",
      "|    EC-LGF|    IBB47MJ|    GCXO|    GCLP|         IBB|         AT75|en-route|Tenerife North Ai...|Gran Canaria Airport|\n",
      "|    EC-LOB|     VLG9EA|    LEBB|    EKCH|         VLG|         A320|en-route|      Bilbao Airport|  Copenhagen Airport|\n",
      "|    EC-LOC|     VLG2GN|    EHAM|    LIRF|         VLG|         A320|en-route|Amsterdam Airport...|Leonardo da Vinci...|\n",
      "+----------+-----------+--------+--------+------------+-------------+--------+--------------------+--------------------+\n",
      "only showing top 20 rows\n",
      "\n"
     ]
    }
   ],
   "source": [
    "departuresFlight = departuresFlight.drop('country_code', 'iata_code' , 'icao_code' , 'lat' ,'lng')\n",
    "departuresFlight = departuresFlight.withColumnRenamed(\"name\",\"arr_airport\")\n",
    "departuresFlight.count()\n",
    "lastDeparturesFlightDf = departuresFlight.na.drop(subset=[\"arr_airport\",\"dep_airport\"])\n",
    "lastDeparturesFlightDf.show()"
   ]
  },
  {
   "cell_type": "code",
   "execution_count": null,
   "id": "3825183c-43c0-4bf3-be79-b23f22bcdd6d",
   "metadata": {},
   "outputs": [],
   "source": []
  }
 ],
 "metadata": {
  "kernelspec": {
   "display_name": "Python 3 (ipykernel)",
   "language": "python",
   "name": "python3"
  },
  "language_info": {
   "codemirror_mode": {
    "name": "ipython",
    "version": 3
   },
   "file_extension": ".py",
   "mimetype": "text/x-python",
   "name": "python",
   "nbconvert_exporter": "python",
   "pygments_lexer": "ipython3",
   "version": "3.10.6"
  }
 },
 "nbformat": 4,
 "nbformat_minor": 5
}
