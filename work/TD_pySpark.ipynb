{
 "cells": [
  {
   "cell_type": "markdown",
   "metadata": {},
   "source": [
    "# Etude de cas : analyse des fichiers de logs des cyclistes\n",
    "\n",
    "Objectif: A partir des fichiers contenu dans le dossier ./data/Cyclistes, calculer la durée de chacun des trajets effectués par chaque cycliste."
   ]
  },
  {
   "cell_type": "code",
   "execution_count": 1,
   "metadata": {},
   "outputs": [],
   "source": [
    "from pyspark.sql import SparkSession\n",
    "from pyspark.sql.types import *\n",
    "from pyspark.sql import functions as F\n",
    "from pyspark.sql.types import *\n",
    "from pyspark.sql.functions import udf\n",
    "from pyspark.sql.window import Window"
   ]
  },
  {
   "cell_type": "markdown",
   "metadata": {},
   "source": [
    "## 1)  Charger la donnée\n",
    "Créez une seesion Spark et chargez les données Cyclistes."
   ]
  },
  {
   "cell_type": "code",
   "execution_count": 2,
   "metadata": {},
   "outputs": [],
   "source": [
    "spark = SparkSession.builder.getOrCreate()"
   ]
  },
  {
   "cell_type": "code",
   "execution_count": 3,
   "metadata": {},
   "outputs": [
    {
     "data": {
      "text/plain": [
       "[('id', 'int'),\n",
       " ('timestamp', 'timestamp'),\n",
       " ('sur_velo', 'boolean'),\n",
       " ('velo', 'string'),\n",
       " ('vitesse', 'double'),\n",
       " ('position', 'string'),\n",
       " ('destination_finale', 'string')]"
      ]
     },
     "execution_count": 3,
     "metadata": {},
     "output_type": "execute_result"
    }
   ],
   "source": [
    "cyclistes = spark.read.load(\"./data/Cyclistes/\", format=\"csv\", header=True, inferSchema=\"True\")\n",
    "cyclistes.dtypes"
   ]
  },
  {
   "cell_type": "markdown",
   "metadata": {},
   "source": [
    "## 2) Vérifier le nombre de cyclistes\n",
    "\n",
    "Comptez le nombre d'id uniques."
   ]
  },
  {
   "cell_type": "code",
   "execution_count": 4,
   "metadata": {},
   "outputs": [
    {
     "data": {
      "text/plain": [
       "2232000"
      ]
     },
     "execution_count": 4,
     "metadata": {},
     "output_type": "execute_result"
    }
   ],
   "source": [
    "cyclistes.distinct().count()"
   ]
  },
  {
   "cell_type": "markdown",
   "metadata": {},
   "source": [
    "## 3) Transformer la colonne timestamp\n",
    "\n",
    "Lorsqu'on vérifie le type de donnée de la colonne timestamp, on voit qu'on a une chaîne de caractères. Pour calculer une durée on voudrait transformer en date exploitable en tant que telle.\n",
    "A l'aide d'une fonction udf, créez une nouvelle colonne date qui contiendra le résultat de la transformation des chaînes de caractères de la colonne timestamp en véritables timestamps."
   ]
  },
  {
   "cell_type": "code",
   "execution_count": 7,
   "metadata": {},
   "outputs": [
    {
     "name": "stdout",
     "output_type": "stream",
     "text": [
      "+---+-------------------+--------+-----+--------------------+-------------------+------------------+\n",
      "| id|          timestamp|sur_velo| velo|             vitesse|           position|destination_finale|\n",
      "+---+-------------------+--------+-----+--------------------+-------------------+------------------+\n",
      "| 12|2018-01-01 00:01:00|   false|False|0.030000000000000006|(lon:2.07 lat:1.24)|             False|\n",
      "| 12|2018-01-01 00:02:00|   false|False|0.030000000000000006|(lon:2.07 lat:1.24)|             False|\n",
      "| 12|2018-01-01 00:03:00|   false|False|0.030000000000000006|(lon:2.07 lat:1.24)|             False|\n",
      "| 12|2018-01-01 00:04:00|   false|False|0.030000000000000006|(lon:2.07 lat:1.24)|             False|\n",
      "| 12|2018-01-01 00:05:00|   false|False|0.030000000000000006|(lon:2.07 lat:1.24)|             False|\n",
      "| 12|2018-01-01 00:06:00|   false|False|0.030000000000000006|(lon:2.07 lat:1.24)|             False|\n",
      "| 12|2018-01-01 00:07:00|   false|False|0.030000000000000006|(lon:2.07 lat:1.24)|             False|\n",
      "| 12|2018-01-01 00:08:00|   false|False|0.030000000000000006|(lon:2.07 lat:1.24)|             False|\n",
      "| 12|2018-01-01 00:09:00|   false|False|0.030000000000000006|(lon:2.07 lat:1.24)|             False|\n",
      "| 12|2018-01-01 00:10:00|   false|False|0.030000000000000006|(lon:2.07 lat:1.24)|             False|\n",
      "+---+-------------------+--------+-----+--------------------+-------------------+------------------+\n",
      "only showing top 10 rows\n",
      "\n"
     ]
    }
   ],
   "source": [
    "cyclistes.show(10)"
   ]
  },
  {
   "cell_type": "code",
   "execution_count": null,
   "metadata": {},
   "outputs": [],
   "source": [
    "# Mon tableau était déja en timestamps mais si il faut convertir il aurait fallu :\n",
    "\n",
    "# dfModifie = cyclistes.withColumn(\"timestamp\",to_timestamp(\"timestamp\", format='yyyy-MM-dd HH:mm:ss'))\n",
    "# cyclistes = dfModifie\n",
    "\n"
   ]
  },
  {
   "cell_type": "markdown",
   "metadata": {},
   "source": [
    "## 4) Durée des trajets par id.\n",
    "\n",
    "1) Trouvez les dates min/max par état de sur_velo, puis par id ET par état de sur_velo."
   ]
  },
  {
   "cell_type": "code",
   "execution_count": 14,
   "metadata": {},
   "outputs": [
    {
     "name": "stdout",
     "output_type": "stream",
     "text": [
      "+---+--------+-------------------+\n",
      "| id|sur_velo|     min(timestamp)|\n",
      "+---+--------+-------------------+\n",
      "| 36|    true|2018-01-01 08:47:00|\n",
      "| 15|    true|2018-01-01 10:19:00|\n",
      "| 12|    true|2018-01-01 08:57:00|\n",
      "| 12|   false|2018-01-01 00:01:00|\n",
      "| 43|    true|2018-01-01 07:44:00|\n",
      "| 36|   false|2018-01-01 00:01:00|\n",
      "| 43|   false|2018-01-01 00:01:00|\n",
      "| 15|   false|2018-01-01 00:01:00|\n",
      "| 42|   false|2018-01-01 00:01:00|\n",
      "| 41|   false|2018-01-01 00:01:00|\n",
      "+---+--------+-------------------+\n",
      "only showing top 10 rows\n",
      "\n"
     ]
    }
   ],
   "source": [
    "cyclistes.groupBy(\"id\" ,\"sur_velo\").agg({\"timestamp\":\"min\"}).show(10)"
   ]
  },
  {
   "cell_type": "code",
   "execution_count": 15,
   "metadata": {},
   "outputs": [
    {
     "name": "stdout",
     "output_type": "stream",
     "text": [
      "+---+--------+-------------------+\n",
      "| id|sur_velo|     max(timestamp)|\n",
      "+---+--------+-------------------+\n",
      "| 36|    true|2018-01-31 21:32:00|\n",
      "| 15|    true|2018-01-31 20:31:00|\n",
      "| 12|    true|2018-01-31 16:49:00|\n",
      "| 12|   false|2018-02-01 00:00:00|\n",
      "| 43|    true|2018-01-30 18:53:00|\n",
      "| 36|   false|2018-02-01 00:00:00|\n",
      "| 43|   false|2018-02-01 00:00:00|\n",
      "| 15|   false|2018-02-01 00:00:00|\n",
      "| 42|   false|2018-02-01 00:00:00|\n",
      "| 41|   false|2018-02-01 00:00:00|\n",
      "+---+--------+-------------------+\n",
      "only showing top 10 rows\n",
      "\n"
     ]
    }
   ],
   "source": [
    "cyclistes.groupBy(\"id\" ,\"sur_velo\").agg({\"timestamp\":\"max\"}).show(10)"
   ]
  },
  {
   "cell_type": "markdown",
   "metadata": {},
   "source": [
    "2) Le résultat n'est pas trés pertinent, il faudrait plutôt le début et la fin de chaque trajet par id. Pour cela, il faudrait détecter les changements d'état \"sur_vélo\".\n",
    "\n",
    "Créez une fonction python (voir fonction udf) qui permet de detecter ces changements d'état.\n",
    "Utilisez la classe Window() et la fonction F.lag() avec votre fonction udf pour créer une nouvelle colonne que vous appellerez changement, contenant un 0 si l'état précedent de sur_velo est le même et un 1 si l'état vient de changer pour chaque id."
   ]
  },
  {
   "cell_type": "code",
   "execution_count": 81,
   "metadata": {
    "tags": []
   },
   "outputs": [],
   "source": [
    "@udf(returnType = IntegerType())\n",
    "def check(actual, previous):\n",
    "# cyclistes.filter(cyclistes.id == 14).sort(F.col(\"timestamp\").asc()).show()\n",
    "    if previous == None:\n",
    "        return 0\n",
    "    if previous == actual:\n",
    "        return 0\n",
    "    if actual != previous:\n",
    "        return 1"
   ]
  },
  {
   "cell_type": "code",
   "execution_count": 83,
   "metadata": {
    "tags": []
   },
   "outputs": [],
   "source": [
    "w = Window.partitionBy(\"id\").orderBy(\"timestamp\")\n",
    "cyclistes = cyclistes.withColumn(\"changement\",check(F.lag(\"sur_velo\",0).over(w), F.lag(\"sur_velo\",1).over(w)))\n"
   ]
  },
  {
   "cell_type": "markdown",
   "metadata": {},
   "source": [
    "3) Grâce à cette nouvelle colonne changement, trouvez un moyen qui permettra de numeroter les trajets pour chaque id et stockez les résulats dans une nouvelle colonne appelée numero_de_trajet."
   ]
  },
  {
   "cell_type": "code",
   "execution_count": 107,
   "metadata": {
    "tags": []
   },
   "outputs": [],
   "source": [
    "# remove all sur_velo to false \n",
    "w2 = Window.partitionBy(\"id\").orderBy(\"timestamp\")\n",
    "dfStateChanged = cyclistes.filter(cyclistes.sur_velo == 1).withColumn(\"numero_de_trajet\", F.sum(\"changement\").over(w2))"
   ]
  },
  {
   "cell_type": "code",
   "execution_count": 163,
   "metadata": {},
   "outputs": [
    {
     "name": "stdout",
     "output_type": "stream",
     "text": [
      "+---+-------------------+--------+--------------------+-----------------+-------------------+-------------------+----------+----------------+\n",
      "| id|          timestamp|sur_velo|                velo|          vitesse|           position| destination_finale|changement|numero_de_trajet|\n",
      "+---+-------------------+--------+--------------------+-----------------+-------------------+-------------------+----------+----------------+\n",
      "|  2|2018-01-01 12:33:00|    true|velo_velo_162_per...|5.313536596841792|(lon:3.00 lat:3.00)|(lon:2.34 lat:0.97)|         1|               1|\n",
      "|  2|2018-01-01 12:34:00|    true|velo_velo_162_per...|5.313536596841792|(lon:2.00 lat:1.00)|(lon:2.34 lat:0.97)|         0|               1|\n",
      "|  2|2018-01-01 12:35:00|    true|velo_velo_162_per...|5.313536596841792|(lon:2.00 lat:1.00)|(lon:2.34 lat:0.97)|         0|               1|\n",
      "|  2|2018-01-01 12:36:00|    true|velo_velo_162_per...|5.313536596841792|(lon:2.00 lat:2.00)|(lon:2.34 lat:0.97)|         0|               1|\n",
      "|  2|2018-01-01 19:59:00|    true|velo_velo_79_perf...|5.313536596841792|(lon:2.00 lat:1.00)|(lon:2.62 lat:2.59)|         1|               2|\n",
      "|  2|2018-01-01 20:00:00|    true|velo_velo_79_perf...|5.313536596841792|(lon:3.00 lat:3.00)|(lon:2.62 lat:2.59)|         0|               2|\n",
      "|  2|2018-01-02 12:33:00|    true|velo_velo_153_per...|5.313536596841792|(lon:3.00 lat:3.00)|(lon:2.34 lat:0.97)|         1|               3|\n",
      "|  2|2018-01-02 12:34:00|    true|velo_velo_153_per...|5.313536596841792|(lon:2.00 lat:1.00)|(lon:2.34 lat:0.97)|         0|               3|\n",
      "|  2|2018-01-02 19:59:00|    true|velo_velo_153_per...|5.313536596841792|(lon:2.00 lat:1.00)|(lon:2.62 lat:2.59)|         1|               4|\n",
      "|  2|2018-01-02 20:00:00|    true|velo_velo_153_per...|5.313536596841792|(lon:3.00 lat:3.00)|(lon:2.62 lat:2.59)|         0|               4|\n",
      "|  2|2018-01-03 12:33:00|    true|velo_velo_165_per...|5.313536596841792|(lon:3.00 lat:3.00)|(lon:2.34 lat:0.97)|         1|               5|\n",
      "|  2|2018-01-03 12:34:00|    true|velo_velo_165_per...|5.313536596841792|(lon:2.00 lat:1.00)|(lon:2.34 lat:0.97)|         0|               5|\n",
      "|  2|2018-01-03 19:59:00|    true|velo_velo_143_per...|5.313536596841792|(lon:2.00 lat:1.00)|(lon:2.62 lat:2.59)|         1|               6|\n",
      "|  2|2018-01-03 20:00:00|    true|velo_velo_143_per...|5.313536596841792|(lon:3.00 lat:3.00)|(lon:2.62 lat:2.59)|         0|               6|\n",
      "|  2|2018-01-04 12:33:00|    true|velo_velo_156_per...|5.313536596841792|(lon:3.00 lat:3.00)|(lon:2.34 lat:0.97)|         1|               7|\n",
      "|  2|2018-01-04 12:34:00|    true|velo_velo_156_per...|5.313536596841792|(lon:2.00 lat:1.00)|(lon:2.34 lat:0.97)|         0|               7|\n",
      "|  2|2018-01-04 19:59:00|    true|velo_velo_156_per...|5.313536596841792|(lon:2.00 lat:1.00)|(lon:2.62 lat:2.59)|         1|               8|\n",
      "|  2|2018-01-04 20:00:00|    true|velo_velo_156_per...|5.313536596841792|(lon:3.00 lat:3.00)|(lon:2.62 lat:2.59)|         0|               8|\n",
      "|  2|2018-01-05 12:33:00|    true|velo_velo_159_per...|5.313536596841792|(lon:3.00 lat:3.00)|(lon:2.34 lat:0.97)|         1|               9|\n",
      "|  2|2018-01-05 12:34:00|    true|velo_velo_159_per...|5.313536596841792|(lon:2.00 lat:1.00)|(lon:2.34 lat:0.97)|         0|               9|\n",
      "+---+-------------------+--------+--------------------+-----------------+-------------------+-------------------+----------+----------------+\n",
      "only showing top 20 rows\n",
      "\n"
     ]
    }
   ],
   "source": [
    "dfStateChanged.show()"
   ]
  },
  {
   "cell_type": "code",
   "execution_count": null,
   "metadata": {
    "tags": []
   },
   "outputs": [],
   "source": []
  },
  {
   "cell_type": "markdown",
   "metadata": {},
   "source": [
    "4) Il suffit maintenant de repêter la première étape, c'est a dire récupérer la début et la fin de chaque trajet pour chaque id, puis calculer la durée des trajets. \n",
    "\n",
    "(Pensez à récuperer les \"vrai trajet au préalable (avec un état sur_vélo = 1)."
   ]
  },
  {
   "cell_type": "code",
   "execution_count": 204,
   "metadata": {},
   "outputs": [
    {
     "name": "stdout",
     "output_type": "stream",
     "text": [
      "+---+----------------+-------------------+-------------------+--------------+\n",
      "| id|numero_de_trajet|         start_time|           end_time|total_duration|\n",
      "+---+----------------+-------------------+-------------------+--------------+\n",
      "|  2|               1|2018-01-01 12:33:00|2018-01-01 12:36:00|           3.0|\n",
      "|  2|               2|2018-01-01 19:59:00|2018-01-01 20:00:00|           1.0|\n",
      "|  2|               3|2018-01-02 12:33:00|2018-01-02 12:34:00|           1.0|\n",
      "|  2|               4|2018-01-02 19:59:00|2018-01-02 20:00:00|           1.0|\n",
      "|  2|               5|2018-01-03 12:33:00|2018-01-03 12:34:00|           1.0|\n",
      "|  2|               6|2018-01-03 19:59:00|2018-01-03 20:00:00|           1.0|\n",
      "|  2|               7|2018-01-04 12:33:00|2018-01-04 12:34:00|           1.0|\n",
      "|  2|               8|2018-01-04 19:59:00|2018-01-04 20:00:00|           1.0|\n",
      "|  2|               9|2018-01-05 12:33:00|2018-01-05 12:34:00|           1.0|\n",
      "|  2|              10|2018-01-05 19:59:00|2018-01-05 20:00:00|           1.0|\n",
      "|  2|              11|2018-01-08 12:33:00|2018-01-08 12:34:00|           1.0|\n",
      "|  2|              12|2018-01-08 19:59:00|2018-01-08 20:00:00|           1.0|\n",
      "|  2|              13|2018-01-09 12:33:00|2018-01-09 12:34:00|           1.0|\n",
      "|  2|              14|2018-01-09 19:59:00|2018-01-09 20:00:00|           1.0|\n",
      "|  2|              15|2018-01-10 12:33:00|2018-01-10 12:34:00|           1.0|\n",
      "|  2|              16|2018-01-10 19:59:00|2018-01-10 20:00:00|           1.0|\n",
      "|  2|              17|2018-01-11 12:33:00|2018-01-11 12:36:00|           3.0|\n",
      "|  2|              18|2018-01-11 20:01:00|2018-01-11 20:02:00|           1.0|\n",
      "|  2|              19|2018-01-12 12:33:00|2018-01-12 12:34:00|           1.0|\n",
      "|  2|              20|2018-01-12 19:59:00|2018-01-12 20:00:00|           1.0|\n",
      "+---+----------------+-------------------+-------------------+--------------+\n",
      "only showing top 20 rows\n",
      "\n"
     ]
    }
   ],
   "source": [
    "dfTimer = dfStateChanged.groupBy(\"id\" ,\"numero_de_trajet\").agg(F.min(\"timestamp\").alias(\"start_time\"),F.max(\"timestamp\").alias(\"end_time\"))\n",
    "# dfNew = dfStateChanged.select(((F.col(\"end_time\") - F.col(\"start_time\"))).alias(\"total duration\")) not working\n",
    "dfTimer = dfTimer.withColumn(\"total_duration\", (F.col(\"end_time\").cast(\"long\") - F.col(\"start_time\").cast(\"long\"))/60)\n",
    "dfTimer.show()"
   ]
  },
  {
   "cell_type": "markdown",
   "metadata": {},
   "source": [
    "## 5) Data visualisation\n",
    "\n",
    "Convertissez votre dataframe pyspark en dataframe pandas."
   ]
  },
  {
   "cell_type": "code",
   "execution_count": 205,
   "metadata": {
    "scrolled": true,
    "tags": []
   },
   "outputs": [
    {
     "name": "stdout",
     "output_type": "stream",
     "text": [
      "<bound method DataFrame.info of       id  numero_de_trajet          start_time            end_time  \\\n",
      "0      2                 1 2018-01-01 12:33:00 2018-01-01 12:36:00   \n",
      "1      2                 2 2018-01-01 19:59:00 2018-01-01 20:00:00   \n",
      "2      2                 3 2018-01-02 12:33:00 2018-01-02 12:34:00   \n",
      "3      2                 4 2018-01-02 19:59:00 2018-01-02 20:00:00   \n",
      "4      2                 5 2018-01-03 12:33:00 2018-01-03 12:34:00   \n",
      "...   ..               ...                 ...                 ...   \n",
      "1759  51                30 2018-01-26 16:39:00 2018-01-26 17:31:00   \n",
      "1760  51                31 2018-01-29 06:29:00 2018-01-29 08:48:00   \n",
      "1761  51                32 2018-01-29 17:08:00 2018-01-29 18:47:00   \n",
      "1762  51                33 2018-01-30 06:29:00 2018-01-30 09:45:00   \n",
      "1763  51                34 2018-01-30 13:56:00 2018-01-30 14:48:00   \n",
      "\n",
      "      total_duration  \n",
      "0                3.0  \n",
      "1                1.0  \n",
      "2                1.0  \n",
      "3                1.0  \n",
      "4                1.0  \n",
      "...              ...  \n",
      "1759            52.0  \n",
      "1760           139.0  \n",
      "1761            99.0  \n",
      "1762           196.0  \n",
      "1763            52.0  \n",
      "\n",
      "[1764 rows x 5 columns]>\n"
     ]
    },
    {
     "name": "stderr",
     "output_type": "stream",
     "text": [
      "/usr/local/spark/python/pyspark/sql/pandas/conversion.py:248: FutureWarning: Passing unit-less datetime64 dtype to .astype is deprecated and will raise in a future version. Pass 'datetime64[ns]' instead\n",
      "  series = series.astype(t, copy=False)\n",
      "/usr/local/spark/python/pyspark/sql/pandas/conversion.py:248: FutureWarning: Passing unit-less datetime64 dtype to .astype is deprecated and will raise in a future version. Pass 'datetime64[ns]' instead\n",
      "  series = series.astype(t, copy=False)\n"
     ]
    }
   ],
   "source": [
    "import pyspark\n",
    "\n",
    "pandasDF = dfTimer.toPandas()\n",
    "print(pandasDF.info)"
   ]
  },
  {
   "cell_type": "markdown",
   "metadata": {},
   "source": [
    "1) A l'aide des librairies matplotlib et/ou seaborn, réalisez un graphique en barre montrant le temps total passé à vélo par chaque cycliste."
   ]
  },
  {
   "cell_type": "code",
   "execution_count": 217,
   "metadata": {
    "tags": []
   },
   "outputs": [],
   "source": [
    "import seaborn as sns\n",
    "import pandas as pd\n",
    "import matplotlib.pyplot as plt\n",
    "%matplotlib inline"
   ]
  },
  {
   "cell_type": "code",
   "execution_count": 218,
   "metadata": {},
   "outputs": [
    {
     "data": {
      "image/png": "[encoded data removed]",
      "text/plain": [
       "<Figure size 500x500 with 1 Axes>"
      ]
     },
     "metadata": {},
     "output_type": "display_data"
    }
   ],
   "source": [
    "plt.figure(figsize=(5, 5))\n",
    "plt.bar(pandasDF[\"id\"], pandasDF[\"total_duration\"])\n",
    "plt.show()"
   ]
  },
  {
   "cell_type": "markdown",
   "metadata": {},
   "source": [
    "2) Réalisez un graphique en barre qui affiche le temps de chaque trajet d'un cycliste. Faites en sorte qu'on puisse choisir un id et afficher les trajets de cet id."
   ]
  },
  {
   "cell_type": "code",
   "execution_count": 219,
   "metadata": {},
   "outputs": [
    {
     "data": {
      "image/png": "[encoded data removed]",
      "text/plain": [
       "<Figure size 500x500 with 1 Axes>"
      ]
     },
     "metadata": {},
     "output_type": "display_data"
    }
   ],
   "source": [
    "def getBarChartById(id):\n",
    "    dfFiltById = pandasDF.where(pandasDF.id==id)\n",
    "    plt.figure(figsize=(5, 5))\n",
    "    plt.bar(dfFiltById[\"numero_de_trajet\"], dfFiltById[\"total_duration\"])\n",
    "    plt.show()\n",
    "    \n",
    "getBarChartById(5)\n",
    "    "
   ]
  },
  {
   "cell_type": "markdown",
   "metadata": {},
   "source": [
    "## 6) Sauvegarde\n",
    "\n",
    "Sauvegardez votre dataset trajets au format csv dans le dossier data."
   ]
  },
  {
   "cell_type": "code",
   "execution_count": 220,
   "metadata": {
    "scrolled": true
   },
   "outputs": [],
   "source": [
    "pandasDF.to_csv('velo-human.csv', index = False, encoding='utf-8')"
   ]
  },
  {
   "cell_type": "code",
   "execution_count": null,
   "metadata": {},
   "outputs": [],
   "source": []
  }
 ],
 "metadata": {
  "kernelspec": {
   "display_name": "Python 3 (ipykernel)",
   "language": "python",
   "name": "python3"
  },
  "language_info": {
   "codemirror_mode": {
    "name": "ipython",
    "version": 3
   },
   "file_extension": ".py",
   "mimetype": "text/x-python",
   "name": "python",
   "nbconvert_exporter": "python",
   "pygments_lexer": "ipython3",
   "version": "3.10.6"
  }
 },
 "nbformat": 4,
 "nbformat_minor": 4
}
